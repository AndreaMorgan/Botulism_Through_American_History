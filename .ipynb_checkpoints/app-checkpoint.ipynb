{
 "cells": [
  {
   "cell_type": "code",
   "execution_count": null,
   "metadata": {},
   "outputs": [],
   "source": [
    "import sqlalchemy\n",
    "from sqlalchemy.ext.automap import automap_base\n",
    "from sqlalchemy.orm import Session\n",
    "from sqlalchemy import create_engine, func, inspect\n",
    "from flask import Flask, jsonify"
   ]
  },
  {
   "cell_type": "code",
   "execution_count": null,
   "metadata": {},
   "outputs": [],
   "source": [
    "#Database Setup"
   ]
  },
  {
   "cell_type": "code",
   "execution_count": null,
   "metadata": {},
   "outputs": [],
   "source": [
    "engine = create_engine(\"sqlite:///data/BOTULISM.db\")"
   ]
  },
  {
   "cell_type": "code",
   "execution_count": null,
   "metadata": {},
   "outputs": [],
   "source": [
    "inspector = inspect(engine)\n",
    "for table in inspector.get_table_names():\n",
    "    print(table)\n",
    "    columns = inspector.get_columns(table)\n",
    "    for column in columns:\n",
    "        print('     ', column['name'])"
   ]
  },
  {
   "cell_type": "code",
   "execution_count": null,
   "metadata": {},
   "outputs": [],
   "source": [
    "Base = automap_base()\n",
    "Base.prepare(engine, reflect=True)"
   ]
  },
  {
   "cell_type": "code",
   "execution_count": null,
   "metadata": {},
   "outputs": [],
   "source": [
    "session = Session(engine)"
   ]
  },
  {
   "cell_type": "code",
   "execution_count": null,
   "metadata": {},
   "outputs": [],
   "source": [
    "Base.classes.keys()"
   ]
  },
  {
   "cell_type": "code",
   "execution_count": null,
   "metadata": {},
   "outputs": [],
   "source": [
    "bot_data = Base.classes.BOTULISM"
   ]
  },
  {
   "cell_type": "code",
   "execution_count": null,
   "metadata": {},
   "outputs": [],
   "source": [
    "#Retrieving all records\n",
    "all_results = session.query(bot_data.state_name, \n",
    "                        bot_data.record_year, \n",
    "                        bot_data.BotType,\n",
    "                        bot_data.ToxinType,\n",
    "                        bot_data.record_count,\n",
    "                        bot_data.BotID).all()\n"
   ]
  },
  {
   "cell_type": "code",
   "execution_count": null,
   "metadata": {},
   "outputs": [],
   "source": [
    "all_records = []\n",
    "\n",
    "for state, year, botType, toxType, count, botID in all_results:\n",
    "    results_dict = {}\n",
    "    results_dict[\"state\"] = state\n",
    "    results_dict[\"year\"] = year\n",
    "    results_dict[\"botType\"] = botType\n",
    "    results_dict[\"toxType\"] = toxType\n",
    "    results_dict[\"count\"] = count\n",
    "    results_dict[\"botID\"] = botID\n",
    "    all_records.append(results_dict)\n",
    "\n",
    "\n",
    "    "
   ]
  },
  {
   "cell_type": "code",
   "execution_count": null,
   "metadata": {},
   "outputs": [],
   "source": [
    "#Creating list of unique states\n",
    "\n",
    "all_states = session.query(bot_data.state_name).distinct().all()\n",
    "\n",
    "state_names = []\n",
    "\n",
    "for i in all_states:\n",
    "    for state in i:\n",
    "        #create dict here if necessary to work in app\n",
    "        state_names.append(state)\n",
    "        \n"
   ]
  },
  {
   "cell_type": "code",
   "execution_count": null,
   "metadata": {},
   "outputs": [],
   "source": [
    "#Creating list of unique Botulism types (BotType)\n",
    "\n",
    "all_botTypes = session.query(bot_data.BotType).distinct().all()\n",
    "\n",
    "bot_types = []\n",
    "\n",
    "for i in all_botTypes:\n",
    "    for kind in i:\n",
    "        #create dict here if necessary to work in app\n",
    "        bot_types.append(kind)"
   ]
  },
  {
   "cell_type": "code",
   "execution_count": null,
   "metadata": {},
   "outputs": [],
   "source": [
    "#Creating list of unique Toxin types (ToxinType)\n",
    "\n",
    "all_toxTypes = session.query(bot_data.ToxinType).distinct().all()\n",
    "\n",
    "tox_types = []\n",
    "\n",
    "for i in all_toxTypes:\n",
    "    for kind in i:\n",
    "        #create dict here if necessary to work in app\n",
    "        tox_types.append(kind)"
   ]
  },
  {
   "cell_type": "code",
   "execution_count": null,
   "metadata": {},
   "outputs": [],
   "source": [
    "#Creating list of unique years (record_year)\n",
    "\n",
    "all_years = session.query(bot_data.record_year).order_by(bot_data.record_year).distinct().all()\n",
    "\n",
    "years = []\n",
    "\n",
    "for i in all_years:\n",
    "    for year in i:\n",
    "        #create dict here if necessary to work in app\n",
    "        years.append(year)"
   ]
  },
  {
   "cell_type": "code",
   "execution_count": null,
   "metadata": {},
   "outputs": [],
   "source": [
    "#Filtering selection by states\n",
    "\n",
    "state_data = session.query(bot_data.state_name, \n",
    "                        bot_data.record_year, \n",
    "                        bot_data.BotType,\n",
    "                        bot_data.ToxinType,\n",
    "                        bot_data.record_count).filter(bot_data.state_name == \"California\").all()\n"
   ]
  },
  {
   "cell_type": "code",
   "execution_count": null,
   "metadata": {},
   "outputs": [],
   "source": [
    "#Creating lists for json formatting\n",
    "years = []\n",
    "\n",
    "foodborne_bot = []\n",
    "infant_bot = []\n",
    "wound_bot = []\n",
    "other_bot = []\n",
    "\n",
    "unknown_tox = []\n",
    "E_tox =[]\n",
    "B_tox =[]\n",
    "A_tox =[]\n",
    "F_tox =[]\n",
    "AB_tox =[]\n",
    "Ba_tox =[]\n",
    "Bf_tox =[]\n",
    "EF_tox =[]\n",
    "ABE_tox =[]\n",
    "Ab_tox =[]\n",
    "BF_tox =[]\n"
   ]
  },
  {
   "cell_type": "code",
   "execution_count": null,
   "metadata": {},
   "outputs": [],
   "source": [
    "#Appending data to lists\n",
    "for i in state_data:\n",
    "    years.append(i[1])"
   ]
  },
  {
   "cell_type": "code",
   "execution_count": null,
   "metadata": {},
   "outputs": [],
   "source": [
    "#Appending data to lists\n",
    "for i in state_data:\n",
    "    if i[2] == \"Foodborne\":\n",
    "        foodborne_bot.append(i[4])\n",
    "    else:\n",
    "        foodborne_bot.append('0')\n",
    "        \n",
    "for i in state_data:\n",
    "    if i[2] == \"Infant\":\n",
    "        infant_bot.append(i[4])\n",
    "    else:\n",
    "        infant_bot.append('0')\n",
    "        \n",
    "for i in state_data:\n",
    "    if i[2] == \"Wound\":\n",
    "        wound_bot.append(i[4])\n",
    "    else:\n",
    "        wound_bot.append('0')\n",
    "        \n",
    "for i in state_data:\n",
    "    if i[2] == \"Other\":\n",
    "        other_bot.append(i[4])\n",
    "    else:\n",
    "        other_bot.append('0')\n",
    "    "
   ]
  },
  {
   "cell_type": "code",
   "execution_count": null,
   "metadata": {},
   "outputs": [],
   "source": [
    "#Appending data to lists\n",
    "for i in state_data:\n",
    "    if i[3] == \"Unknown\":\n",
    "        unknown_tox.append(i[4])\n",
    "    else:\n",
    "        unknown_tox.append('0')\n",
    "        \n",
    "for i in state_data:\n",
    "    if i[3] == \"E\":\n",
    "        E_tox.append(i[4])\n",
    "    else:\n",
    "        E_tox.append('0')\n",
    "        \n",
    "for i in state_data:\n",
    "    if i[3] == \"B\":\n",
    "        B_tox.append(i[4])\n",
    "    else:\n",
    "        B_tox.append('0')\n",
    "        \n",
    "for i in state_data:\n",
    "    if i[3] == \"A\":\n",
    "        A_tox.append(i[4])\n",
    "    else:\n",
    "        A_tox.append('0')\n",
    "        \n",
    "for i in state_data:\n",
    "    if i[3] == \"F\":\n",
    "        F_tox.append(i[4])\n",
    "    else:\n",
    "        F_tox.append('0')\n",
    "        \n",
    "for i in state_data:\n",
    "    if i[3] == \"AB\":\n",
    "        AB_tox.append(i[4])\n",
    "    else:\n",
    "        AB_tox.append('0')\n",
    "        \n",
    "for i in state_data:\n",
    "    if i[3] == \"Ba\":\n",
    "        Ba_tox.append(i[4])\n",
    "    else:\n",
    "        Ba_tox.append('0')\n",
    "        \n",
    "for i in state_data:\n",
    "    if i[3] == \"Bf\":\n",
    "        Bf_tox.append(i[4])\n",
    "    else:\n",
    "        Bf_tox.append('0')\n",
    "        \n",
    "for i in state_data:\n",
    "    if i[3] == \"EF\":\n",
    "        EF_tox.append(i[4])\n",
    "    else:\n",
    "        EF_tox.append('0')\n",
    "        \n",
    "for i in state_data:\n",
    "    if i[3] == \"ABE\":\n",
    "        ABE_tox.append(i[4])\n",
    "    else:\n",
    "        ABE_tox.append('0')\n",
    "        \n",
    "for i in state_data:\n",
    "    if i[3] == \"Ab\":\n",
    "        Ab_tox.append(i[4])\n",
    "    else:\n",
    "        Ab_tox.append('0')\n",
    "        \n",
    "for i in state_data:\n",
    "    if i[3] == \"BF\":\n",
    "        BF_tox.append(i[4])\n",
    "    else:\n",
    "        BF_tox.append('0')\n",
    "        \n"
   ]
  },
  {
   "cell_type": "code",
   "execution_count": null,
   "metadata": {},
   "outputs": [],
   "source": []
  },
  {
   "cell_type": "code",
   "execution_count": null,
   "metadata": {},
   "outputs": [],
   "source": []
  }
 ],
 "metadata": {
  "kernelspec": {
   "display_name": "Python 3",
   "language": "python",
   "name": "python3"
  },
  "language_info": {
   "codemirror_mode": {
    "name": "ipython",
    "version": 3
   },
   "file_extension": ".py",
   "mimetype": "text/x-python",
   "name": "python",
   "nbconvert_exporter": "python",
   "pygments_lexer": "ipython3",
   "version": "3.7.3"
  }
 },
 "nbformat": 4,
 "nbformat_minor": 2
}
