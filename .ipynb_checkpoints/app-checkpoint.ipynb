{
 "cells": [
  {
   "cell_type": "code",
   "execution_count": 1,
   "metadata": {},
   "outputs": [],
   "source": [
    "import sqlalchemy\n",
    "from sqlalchemy.ext.automap import automap_base\n",
    "from sqlalchemy.orm import Session\n",
    "from sqlalchemy import create_engine, func, inspect\n",
    "from flask import Flask, jsonify"
   ]
  },
  {
   "cell_type": "code",
   "execution_count": 2,
   "metadata": {},
   "outputs": [],
   "source": [
    "#Database Setup"
   ]
  },
  {
   "cell_type": "code",
   "execution_count": 3,
   "metadata": {},
   "outputs": [],
   "source": [
    "engine = create_engine(\"sqlite:///data/BOTULISM.db\")"
   ]
  },
  {
   "cell_type": "code",
   "execution_count": 4,
   "metadata": {},
   "outputs": [
    {
     "name": "stdout",
     "output_type": "stream",
     "text": [
      "BOTULISM\n",
      "      state_name\n",
      "      record_year\n",
      "      BotType\n",
      "      ToxinType\n",
      "      record_count\n",
      "      BotID\n",
      "sqlite_sequence\n",
      "      name\n",
      "      seq\n"
     ]
    }
   ],
   "source": [
    "inspector = inspect(engine)\n",
    "for table in inspector.get_table_names():\n",
    "    print(table)\n",
    "    columns = inspector.get_columns(table)\n",
    "    for column in columns:\n",
    "        print('     ', column['name'])"
   ]
  },
  {
   "cell_type": "code",
   "execution_count": 5,
   "metadata": {},
   "outputs": [],
   "source": [
    "Base = automap_base()\n",
    "Base.prepare(engine, reflect=True)"
   ]
  },
  {
   "cell_type": "code",
   "execution_count": 6,
   "metadata": {},
   "outputs": [],
   "source": [
    "session = Session(engine)"
   ]
  },
  {
   "cell_type": "code",
   "execution_count": 7,
   "metadata": {},
   "outputs": [
    {
     "data": {
      "text/plain": [
       "['BOTULISM']"
      ]
     },
     "execution_count": 7,
     "metadata": {},
     "output_type": "execute_result"
    }
   ],
   "source": [
    "Base.classes.keys()"
   ]
  },
  {
   "cell_type": "code",
   "execution_count": 8,
   "metadata": {},
   "outputs": [],
   "source": [
    "bot_data = Base.classes.BOTULISM"
   ]
  },
  {
   "cell_type": "code",
   "execution_count": 39,
   "metadata": {},
   "outputs": [],
   "source": [
    "all_results = session.query(bot_data.state_name, \n",
    "                        bot_data.record_year, \n",
    "                        bot_data.BotType,\n",
    "                        bot_data.ToxinType,\n",
    "                        bot_data.record_count,\n",
    "                        bot_data.BotID).all()\n"
   ]
  },
  {
   "cell_type": "code",
   "execution_count": 40,
   "metadata": {},
   "outputs": [],
   "source": [
    "all_records = []\n",
    "\n",
    "for state, year, botType, toxType, count, botID in all_results:\n",
    "    results_dict = {}\n",
    "    results_dict[\"state\"] = state\n",
    "    results_dict[\"year\"] = year\n",
    "    results_dict[\"botType\"] = botType\n",
    "    results_dict[\"toxType\"] = toxType\n",
    "    results_dict[\"count\"] = count\n",
    "    results_dict[\"botID\"] = botID\n",
    "    all_records.append(results_dict)\n",
    "\n",
    "\n",
    "    "
   ]
  },
  {
   "cell_type": "code",
   "execution_count": 57,
   "metadata": {},
   "outputs": [],
   "source": [
    "#Creating list of unique states\n",
    "\n",
    "all_states = session.query(bot_data.state_name).distinct().all()\n",
    "\n",
    "state_names = []\n",
    "\n",
    "for i in all_states:\n",
    "    for state in i:\n",
    "        #create dict here if necessary to work in app\n",
    "        state_names.append(state)\n",
    "        \n"
   ]
  },
  {
   "cell_type": "code",
   "execution_count": 58,
   "metadata": {},
   "outputs": [],
   "source": [
    "#Creating list of unique Botulism types (BotType)\n",
    "\n",
    "all_botTypes = session.query(bot_data.BotType).distinct().all()\n",
    "\n",
    "bot_types = []\n",
    "\n",
    "for i in all_botTypes:\n",
    "    for kind in i:\n",
    "        #create dict here if necessary to work in app\n",
    "        bot_types.append(kind)"
   ]
  },
  {
   "cell_type": "code",
   "execution_count": 59,
   "metadata": {},
   "outputs": [],
   "source": [
    "#Creating list of unique Toxin types (ToxinType)\n",
    "\n",
    "all_toxTypes = session.query(bot_data.ToxinType).distinct().all()\n",
    "\n",
    "tox_types = []\n",
    "\n",
    "for i in all_toxTypes:\n",
    "    for kind in i:\n",
    "        #create dict here if necessary to work in app\n",
    "        tox_types.append(kind)"
   ]
  },
  {
   "cell_type": "code",
   "execution_count": 65,
   "metadata": {},
   "outputs": [],
   "source": [
    "#Creating list of unique years (record_year)\n",
    "\n",
    "all_years = session.query(bot_data.record_year).order_by(bot_data.record_year).distinct().all()\n",
    "\n",
    "years = []\n",
    "\n",
    "for i in all_years:\n",
    "    for year in i:\n",
    "        #create dict here if necessary to work in app\n",
    "        years.append(year)"
   ]
  },
  {
   "cell_type": "code",
   "execution_count": null,
   "metadata": {},
   "outputs": [],
   "source": []
  },
  {
   "cell_type": "code",
   "execution_count": null,
   "metadata": {},
   "outputs": [],
   "source": []
  },
  {
   "cell_type": "code",
   "execution_count": null,
   "metadata": {},
   "outputs": [],
   "source": []
  }
 ],
 "metadata": {
  "kernelspec": {
   "display_name": "Python 3",
   "language": "python",
   "name": "python3"
  },
  "language_info": {
   "codemirror_mode": {
    "name": "ipython",
    "version": 3
   },
   "file_extension": ".py",
   "mimetype": "text/x-python",
   "name": "python",
   "nbconvert_exporter": "python",
   "pygments_lexer": "ipython3",
   "version": "3.7.3"
  }
 },
 "nbformat": 4,
 "nbformat_minor": 2
}
