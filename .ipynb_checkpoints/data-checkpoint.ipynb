{
 "cells": [
  {
   "cell_type": "code",
   "execution_count": 2,
   "metadata": {},
   "outputs": [],
   "source": [
    "import numpy as np\n",
    "import pandas as pd\n",
    "import matplotlib.pyplot as plt"
   ]
  },
  {
   "cell_type": "code",
   "execution_count": 1,
   "metadata": {},
   "outputs": [],
   "source": [
    "path = (\"\")"
   ]
  },
  {
   "cell_type": "code",
   "execution_count": null,
   "metadata": {},
   "outputs": [],
   "source": [
    "misconduct = home_away_counts['Misconduct'].sum()\n",
    "high_block = home_away_counts['High Block'].sum()\n",
    "back_block = home_away_counts['Back Block'].sum()\n",
    "low_block = home_away_counts['Low Block'].sum()\n",
    "leg_block = home_away_counts['Leg Block'].sum()\n",
    "forearms = home_away_counts['Forearms'].sum()\n",
    "head_block = home_away_counts['Head Block'].sum()\n",
    "multiplayer = home_away_counts['Multiplayer'].sum()\n",
    "illegal_contact = home_away_counts['Illegal Contact'].sum()\n",
    "direction = home_away_counts['Direction'].sum()\n",
    "illegal_position = home_away_counts['Illegal Position'].sum()\n",
    "cut = home_away_counts['Cut'].sum()\n",
    "interference = home_away_counts['Interference'].sum()\n",
    "illegal_procedure = home_away_counts['Illegal Procedure'].sum()\n",
    "expulsion = home_away_counts['Expulsion'].sum()\n",
    "\n",
    "\n",
    "p_sums = pd.DataFrame({\n",
    "    'Misconduct': [misconduct],\n",
    "    'High Block': [high_block],\n",
    "    'Back Block': [back_block],\n",
    "    'Low Block': [low_block],\n",
    "    'Leg Block': [leg_block],\n",
    "    'Forearms': [forearms],\n",
    "    'Head Block': [head_block],\n",
    "    'Multiplayer': [multiplayer],\n",
    "    'Illegal Contact': [illegal_contact],\n",
    "    'Direction': [direction],\n",
    "    'Illegal Position': [illegal_position],\n",
    "    'Cut': [cut],\n",
    "    'Interference': [interference],\n",
    "    'Illegal Procedure':[illegal_procedure],\n",
    "    'Expulsion': [expulsion]\n",
    "\n",
    "\n",
    "})\n",
    "\n",
    "p_sums_df = p_sums.transpose()\n",
    "p_sums_n = p_sums_df.reset_index()\n",
    "p_sums_n = p_sums_n.rename(columns = {'index': 'penalty', 0: 'count'})\n",
    "p_sums_c = p_sums_n.sort_values('count')"
   ]
  },
  {
   "cell_type": "code",
   "execution_count": null,
   "metadata": {},
   "outputs": [],
   "source": []
  },
  {
   "cell_type": "code",
   "execution_count": null,
   "metadata": {},
   "outputs": [],
   "source": []
  }
 ],
 "metadata": {
  "kernelspec": {
   "display_name": "Python 3",
   "language": "python",
   "name": "python3"
  },
  "language_info": {
   "codemirror_mode": {
    "name": "ipython",
    "version": 3
   },
   "file_extension": ".py",
   "mimetype": "text/x-python",
   "name": "python",
   "nbconvert_exporter": "python",
   "pygments_lexer": "ipython3",
   "version": "3.7.3"
  }
 },
 "nbformat": 4,
 "nbformat_minor": 2
}
